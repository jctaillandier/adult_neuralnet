{
  "nbformat": 4,
  "nbformat_minor": 0,
  "metadata": {
    "colab": {
      "name": "ML_projet.ipynb",
      "version": "0.3.2",
      "provenance": [],
      "collapsed_sections": [
        "3Lmtz4N1NExx",
        "pyfxcxe8NEx1"
      ]
    },
    "kernelspec": {
      "name": "python3",
      "display_name": "Python 3"
    },
    "accelerator": "GPU"
  },
  "cells": [
    {
      "metadata": {
        "id": "ccBMUxSDNEwX",
        "colab_type": "text"
      },
      "cell_type": "markdown",
      "source": [
        "### Initial Imports "
      ]
    },
    {
      "metadata": {
        "id": "a1N6fglBNEwY",
        "colab_type": "code",
        "outputId": "91980672-a626-4ffc-ebb2-4183abc17cc6",
        "colab": {
          "base_uri": "https://localhost:8080/",
          "height": 90
        }
      },
      "cell_type": "code",
      "source": [
        "import math\n",
        "import numpy as np\n",
        "import pandas as pd\n",
        "import matplotlib.pyplot as plt\n",
        "%pylab inline\n",
        "import os\n",
        "import time\n",
        "from sklearn import preprocessing\n",
        "from numpy import array\n",
        "from numpy import argmax\n",
        "from sklearn.preprocessing import LabelEncoder\n",
        "from sklearn.preprocessing import OneHotEncoder\n",
        "from sklearn import preprocessing\n",
        "from os.path import exists\n",
        "from wheel.pep425tags import get_abbr_impl, get_impl_ver, get_abi_tag\n",
        "platform = '{}{}-{}'.format(get_abbr_impl(), get_impl_ver(), get_abi_tag())\n",
        "cuda_output = !ldconfig -p|grep cudart.so|sed -e 's/.*\\.\\([0-9]*\\)\\.\\([0-9]*\\)$/cu\\1\\2/'\n",
        "accelerator = cuda_output[1] if exists('/dev/nvidia0') else 'cpu'\n",
        "!pip install -q http://download.pytorch.org/whl/{accelerator}/torch-0.4.1-{platform}-linux_x86_64.whl torchvision\n",
        "  \n"
      ],
      "execution_count": 0,
      "outputs": [
        {
          "output_type": "stream",
          "text": [
            "Populating the interactive namespace from numpy and matplotlib\n",
            "/bin/bash: -c: line 0: syntax error near unexpected token `('\n",
            "/bin/bash: -c: line 0: `pip install -q http://download.pytorch.org/whl/\tlibcudart.so (libc6,x86-64) => /usr/local/cuda-9.2/targets/x86_64-linux/lib/libcudart.so/torch-0.4.1-cp36-cp36m-linux_x86_64.whl torchvision'\n"
          ],
          "name": "stdout"
        }
      ]
    },
    {
      "metadata": {
        "id": "5LyOKtbhNEwd",
        "colab_type": "code",
        "outputId": "4f810075-4d53-418c-e353-092766ad8518",
        "colab": {
          "base_uri": "https://localhost:8080/",
          "height": 35
        }
      },
      "cell_type": "code",
      "source": [
        "from google.colab import drive\n",
        "drive.mount('/content/drive')"
      ],
      "execution_count": 0,
      "outputs": [
        {
          "output_type": "stream",
          "text": [
            "Drive already mounted at /content/drive; to attempt to forcibly remount, call drive.mount(\"/content/drive\", force_remount=True).\n"
          ],
          "name": "stdout"
        }
      ]
    },
    {
      "metadata": {
        "id": "jjCy_aY7NEwn",
        "colab_type": "code",
        "colab": {}
      },
      "cell_type": "code",
      "source": [
        "# http://pytorch.org/\n",
        "from os.path import exists\n",
        "from wheel.pep425tags import get_abbr_impl, get_impl_ver, get_abi_tag\n",
        "platform = '{}{}-{}'.format(get_abbr_impl(), get_impl_ver(), get_abi_tag())\n",
        "cuda_output = !ldconfig -p|grep cudart.so|sed -e 's/.*\\.\\([0-9]*\\)\\.\\([0-9]*\\)$/cu\\1\\2/'\n",
        "accelerator = cuda_output[0] if exists('/dev/nvidia0') else 'cpu'\n",
        "\n",
        "!pip install -q http://download.pytorch.org/whl/{accelerator}/torch-0.4.1-{platform}-linux_x86_64.whl torchvision\n",
        "import torch\n",
        "# http://pytorch.org/\n",
        "from wheel.pep425tags import get_abbr_impl, get_impl_ver, get_abi_tag\n",
        "platform = '{}{}-{}'.format(get_abbr_impl(), get_impl_ver(), get_abi_tag())\n",
        "cuda_output = !ldconfig -p|grep cudart.so|sed -e 's/.*\\.\\([0-9]*\\)\\.\\([0-9]*\\)$/cu\\1\\2/'\n",
        "accelerator = cuda_output[0] if exists('/dev/nvidia0') else 'cpu'\n",
        "\n",
        "import torch.nn as nn\n",
        "import torch.nn.functional as F\n",
        "import torch.optim as optim\n",
        "from torchvision import datasets, transforms\n",
        "from torch.utils.data import DataLoader\n",
        "import pickle\n",
        "from torch.utils.data.sampler import (SubsetRandomSampler,\n",
        "                                      RandomSampler)\n",
        "from torchvision import datasets, transforms\n"
      ],
      "execution_count": 0,
      "outputs": []
    },
    {
      "metadata": {
        "id": "0V4CAE8qhiag",
        "colab_type": "code",
        "colab": {}
      },
      "cell_type": "code",
      "source": [
        ""
      ],
      "execution_count": 0,
      "outputs": []
    },
    {
      "metadata": {
        "id": "8zZfuu9pNEwt",
        "colab_type": "code",
        "outputId": "de840a36-7821-4eb1-ca6f-7ab94f40325a",
        "colab": {
          "base_uri": "https://localhost:8080/",
          "height": 35
        }
      },
      "cell_type": "code",
      "source": [
        "# If a GPU is available, use it\n",
        "# Pytorch uses an elegant way to keep the code device agnostic\n",
        "if torch.cuda.is_available():\n",
        "    device = torch.device(\"cuda\")\n",
        "    use_cuda = True\n",
        "else:\n",
        "    device = torch.device(\"cpu\")\n",
        "    use_cuda = False\n",
        "    \n",
        "print(device)"
      ],
      "execution_count": 0,
      "outputs": [
        {
          "output_type": "stream",
          "text": [
            "cuda\n"
          ],
          "name": "stdout"
        }
      ]
    },
    {
      "metadata": {
        "id": "9Xza-nI8NEww",
        "colab_type": "code",
        "colab": {}
      },
      "cell_type": "code",
      "source": [
        "\n",
        "#torch.cuda.is_available()"
      ],
      "execution_count": 0,
      "outputs": []
    },
    {
      "metadata": {
        "id": "gWF18ffsODrl",
        "colab_type": "text"
      },
      "cell_type": "markdown",
      "source": [
        "### Loading Data From Drive"
      ]
    },
    {
      "metadata": {
        "id": "lL-49pjUOF4d",
        "colab_type": "code",
        "outputId": "4a1d7420-9fb3-45ae-9ef9-e82307c638c1",
        "colab": {
          "base_uri": "https://localhost:8080/",
          "height": 35
        }
      },
      "cell_type": "code",
      "source": [
        "## !!! Need to ge rid of first row, then tell loader there are some strings\n",
        "\n",
        "full_data = pd.read_csv(\n",
        "    \"/content/drive/My Drive/ml_project/data/adult.csv\",\n",
        "    names=[\n",
        "        \"Age\", \"Workclass\", \"fnlwgt\", \"Education\", \"Education-Num\", \"Martial Status\",\n",
        "        \"Occupation\", \"Relationship\", \"Race\", \"Sex\", \"Capital Gain\", \"Capital Loss\",\n",
        "        \"Hours per week\", \"Country\", \"Target\"],\n",
        "        sep=r'\\s*,\\s*',\n",
        "        engine='python', skiprows=1,\n",
        "        na_values=\"?\", dtype={0:int, 1:str, 2:int, 3:str, 4:int, 5: str, 6:str , 7:str ,8:str ,9: str, 10:int, 11:int, 12:int, 13:str,14: str})\n",
        "\n",
        "print('Dataset size: ', full_data.shape[0])"
      ],
      "execution_count": 0,
      "outputs": [
        {
          "output_type": "stream",
          "text": [
            "Dataset size:  48842\n"
          ],
          "name": "stdout"
        }
      ]
    },
    {
      "metadata": {
        "id": "Otl1MgF80kN2",
        "colab_type": "text"
      },
      "cell_type": "markdown",
      "source": [
        "#### Optional routine to keep ONLY people from United-States"
      ]
    },
    {
      "metadata": {
        "id": "uzOe15U50lT6",
        "colab_type": "code",
        "colab": {}
      },
      "cell_type": "code",
      "source": [
        "# Keep only Freedom People\n",
        "#full_data = full_data[full_data.Country == 'United-States']\n",
        "\n",
        "# Then drop Column\n",
        "#full_data = full_data.drop(['Country'], axis=1)"
      ],
      "execution_count": 0,
      "outputs": []
    },
    {
      "metadata": {
        "id": "agrpxXJr0lW2",
        "colab_type": "code",
        "outputId": "af640189-1ac6-4a56-bef0-28bd989a22f6",
        "colab": {
          "base_uri": "https://localhost:8080/",
          "height": 390
        }
      },
      "cell_type": "code",
      "source": [
        "print(full_data.head())\n",
        "print(full_data.shape)"
      ],
      "execution_count": 0,
      "outputs": [
        {
          "output_type": "stream",
          "text": [
            "   Age  Workclass  fnlwgt     Education  Education-Num      Martial Status  \\\n",
            "0   25    Private  226802          11th              7       Never-married   \n",
            "1   38    Private   89814       HS-grad              9  Married-civ-spouse   \n",
            "2   28  Local-gov  336951    Assoc-acdm             12  Married-civ-spouse   \n",
            "3   44    Private  160323  Some-college             10  Married-civ-spouse   \n",
            "4   18        nan  103497  Some-college             10       Never-married   \n",
            "\n",
            "          Occupation Relationship   Race     Sex  Capital Gain  Capital Loss  \\\n",
            "0  Machine-op-inspct    Own-child  Black    Male             0             0   \n",
            "1    Farming-fishing      Husband  White    Male             0             0   \n",
            "2    Protective-serv      Husband  White    Male             0             0   \n",
            "3  Machine-op-inspct      Husband  Black    Male          7688             0   \n",
            "4                nan    Own-child  White  Female             0             0   \n",
            "\n",
            "   Hours per week        Country Target  \n",
            "0              40  United-States  <=50K  \n",
            "1              50  United-States  <=50K  \n",
            "2              40  United-States   >50K  \n",
            "3              40  United-States   >50K  \n",
            "4              30  United-States  <=50K  \n",
            "(48842, 15)\n"
          ],
          "name": "stdout"
        }
      ]
    },
    {
      "metadata": {
        "id": "cMMBYgYZGhQu",
        "colab_type": "text"
      },
      "cell_type": "markdown",
      "source": [
        "#### Deletes all rows where a value == 'nan'"
      ]
    },
    {
      "metadata": {
        "id": "IkvjeqgdIo0X",
        "colab_type": "code",
        "colab": {}
      },
      "cell_type": "code",
      "source": [
        "# a swiss knife tool for separating string columns to separate list and numerical to separate list\n",
        "\n",
        "str_list=[]\n",
        "\n",
        "for data in [full_data]:\n",
        "    for colname, colvalue in data.iteritems(): \n",
        "        if type(colvalue[1]) == str:\n",
        "            str_list.append(colname) \n",
        "num_list = data.columns.difference(str_list)"
      ],
      "execution_count": 0,
      "outputs": []
    },
    {
      "metadata": {
        "id": "a-dmuj_YuBQo",
        "colab_type": "code",
        "outputId": "0e83a6d4-9db9-4c8c-90c1-47ffc2998b29",
        "colab": {
          "base_uri": "https://localhost:8080/",
          "height": 70
        }
      },
      "cell_type": "code",
      "source": [
        "# replace '?' with NaN, then delete those rows\n",
        "\n",
        "full_size = full_data.shape[0]\n",
        "print('Dataset size Before pruning: ', full_size)\n",
        "for data in [full_data]:\n",
        "    for i in full_data:\n",
        "        data[i].replace('nan', np.nan, inplace=True)\n",
        "    data.dropna(inplace=True)\n",
        "real_size = full_data.shape[0]\n",
        "print('Dataset size after pruning: ', real_size)\n",
        "print('We eliminated ', (full_size-real_size), ' datapoints')"
      ],
      "execution_count": 0,
      "outputs": [
        {
          "output_type": "stream",
          "text": [
            "Dataset size Before pruning:  48842\n",
            "Dataset size after pruning:  45222\n",
            "We eliminated  3620  datapoints\n"
          ],
          "name": "stdout"
        }
      ]
    },
    {
      "metadata": {
        "id": "GQcU8wu_OF-P",
        "colab_type": "code",
        "outputId": "3f36e845-3aea-49d2-ca97-4c1c696f8fc2",
        "colab": {
          "base_uri": "https://localhost:8080/",
          "height": 302
        }
      },
      "cell_type": "code",
      "source": [
        "full_data.head()"
      ],
      "execution_count": 0,
      "outputs": [
        {
          "output_type": "execute_result",
          "data": {
            "text/html": [
              "<div>\n",
              "<style scoped>\n",
              "    .dataframe tbody tr th:only-of-type {\n",
              "        vertical-align: middle;\n",
              "    }\n",
              "\n",
              "    .dataframe tbody tr th {\n",
              "        vertical-align: top;\n",
              "    }\n",
              "\n",
              "    .dataframe thead th {\n",
              "        text-align: right;\n",
              "    }\n",
              "</style>\n",
              "<table border=\"1\" class=\"dataframe\">\n",
              "  <thead>\n",
              "    <tr style=\"text-align: right;\">\n",
              "      <th></th>\n",
              "      <th>Age</th>\n",
              "      <th>Workclass</th>\n",
              "      <th>fnlwgt</th>\n",
              "      <th>Education</th>\n",
              "      <th>Education-Num</th>\n",
              "      <th>Martial Status</th>\n",
              "      <th>Occupation</th>\n",
              "      <th>Relationship</th>\n",
              "      <th>Race</th>\n",
              "      <th>Sex</th>\n",
              "      <th>Capital Gain</th>\n",
              "      <th>Capital Loss</th>\n",
              "      <th>Hours per week</th>\n",
              "      <th>Country</th>\n",
              "      <th>Target</th>\n",
              "    </tr>\n",
              "  </thead>\n",
              "  <tbody>\n",
              "    <tr>\n",
              "      <th>0</th>\n",
              "      <td>25</td>\n",
              "      <td>Private</td>\n",
              "      <td>226802</td>\n",
              "      <td>11th</td>\n",
              "      <td>7</td>\n",
              "      <td>Never-married</td>\n",
              "      <td>Machine-op-inspct</td>\n",
              "      <td>Own-child</td>\n",
              "      <td>Black</td>\n",
              "      <td>Male</td>\n",
              "      <td>0</td>\n",
              "      <td>0</td>\n",
              "      <td>40</td>\n",
              "      <td>United-States</td>\n",
              "      <td>&lt;=50K</td>\n",
              "    </tr>\n",
              "    <tr>\n",
              "      <th>1</th>\n",
              "      <td>38</td>\n",
              "      <td>Private</td>\n",
              "      <td>89814</td>\n",
              "      <td>HS-grad</td>\n",
              "      <td>9</td>\n",
              "      <td>Married-civ-spouse</td>\n",
              "      <td>Farming-fishing</td>\n",
              "      <td>Husband</td>\n",
              "      <td>White</td>\n",
              "      <td>Male</td>\n",
              "      <td>0</td>\n",
              "      <td>0</td>\n",
              "      <td>50</td>\n",
              "      <td>United-States</td>\n",
              "      <td>&lt;=50K</td>\n",
              "    </tr>\n",
              "    <tr>\n",
              "      <th>2</th>\n",
              "      <td>28</td>\n",
              "      <td>Local-gov</td>\n",
              "      <td>336951</td>\n",
              "      <td>Assoc-acdm</td>\n",
              "      <td>12</td>\n",
              "      <td>Married-civ-spouse</td>\n",
              "      <td>Protective-serv</td>\n",
              "      <td>Husband</td>\n",
              "      <td>White</td>\n",
              "      <td>Male</td>\n",
              "      <td>0</td>\n",
              "      <td>0</td>\n",
              "      <td>40</td>\n",
              "      <td>United-States</td>\n",
              "      <td>&gt;50K</td>\n",
              "    </tr>\n",
              "    <tr>\n",
              "      <th>3</th>\n",
              "      <td>44</td>\n",
              "      <td>Private</td>\n",
              "      <td>160323</td>\n",
              "      <td>Some-college</td>\n",
              "      <td>10</td>\n",
              "      <td>Married-civ-spouse</td>\n",
              "      <td>Machine-op-inspct</td>\n",
              "      <td>Husband</td>\n",
              "      <td>Black</td>\n",
              "      <td>Male</td>\n",
              "      <td>7688</td>\n",
              "      <td>0</td>\n",
              "      <td>40</td>\n",
              "      <td>United-States</td>\n",
              "      <td>&gt;50K</td>\n",
              "    </tr>\n",
              "    <tr>\n",
              "      <th>5</th>\n",
              "      <td>34</td>\n",
              "      <td>Private</td>\n",
              "      <td>198693</td>\n",
              "      <td>10th</td>\n",
              "      <td>6</td>\n",
              "      <td>Never-married</td>\n",
              "      <td>Other-service</td>\n",
              "      <td>Not-in-family</td>\n",
              "      <td>White</td>\n",
              "      <td>Male</td>\n",
              "      <td>0</td>\n",
              "      <td>0</td>\n",
              "      <td>30</td>\n",
              "      <td>United-States</td>\n",
              "      <td>&lt;=50K</td>\n",
              "    </tr>\n",
              "  </tbody>\n",
              "</table>\n",
              "</div>"
            ],
            "text/plain": [
              "   Age  Workclass  fnlwgt     Education  Education-Num      Martial Status  \\\n",
              "0   25    Private  226802          11th              7       Never-married   \n",
              "1   38    Private   89814       HS-grad              9  Married-civ-spouse   \n",
              "2   28  Local-gov  336951    Assoc-acdm             12  Married-civ-spouse   \n",
              "3   44    Private  160323  Some-college             10  Married-civ-spouse   \n",
              "5   34    Private  198693          10th              6       Never-married   \n",
              "\n",
              "          Occupation   Relationship   Race   Sex  Capital Gain  Capital Loss  \\\n",
              "0  Machine-op-inspct      Own-child  Black  Male             0             0   \n",
              "1    Farming-fishing        Husband  White  Male             0             0   \n",
              "2    Protective-serv        Husband  White  Male             0             0   \n",
              "3  Machine-op-inspct        Husband  Black  Male          7688             0   \n",
              "5      Other-service  Not-in-family  White  Male             0             0   \n",
              "\n",
              "   Hours per week        Country Target  \n",
              "0              40  United-States  <=50K  \n",
              "1              50  United-States  <=50K  \n",
              "2              40  United-States   >50K  \n",
              "3              40  United-States   >50K  \n",
              "5              30  United-States  <=50K  "
            ]
          },
          "metadata": {
            "tags": []
          },
          "execution_count": 11
        }
      ]
    },
    {
      "metadata": {
        "id": "x9u4sDuwIimO",
        "colab_type": "text"
      },
      "cell_type": "markdown",
      "source": [
        "#### Take labels out and encode them"
      ]
    },
    {
      "metadata": {
        "id": "QmyeEcj1Zf39",
        "colab_type": "code",
        "outputId": "14197ed4-b179-46d9-978b-5118faaaf9b3",
        "colab": {
          "base_uri": "https://localhost:8080/",
          "height": 70
        }
      },
      "cell_type": "code",
      "source": [
        "# Take\n",
        "full_labels = full_data['Target'].copy()\n",
        "print(full_labels.shape[0])\n",
        "\n",
        "full_data = full_data.drop(['Target'], axis=1)\n",
        "print(full_data.shape[0])\n",
        "\n",
        "# Label Encode Labels\n",
        "label_encoder = LabelEncoder()\n",
        "full_labels = label_encoder.fit_transform(full_labels)\n",
        "print(full_labels[:10])"
      ],
      "execution_count": 0,
      "outputs": [
        {
          "output_type": "stream",
          "text": [
            "45222\n",
            "45222\n",
            "[0 0 1 1 0 1 0 0 1 0]\n"
          ],
          "name": "stdout"
        }
      ]
    },
    {
      "metadata": {
        "id": "Mztr4vE4JYMa",
        "colab_type": "text"
      },
      "cell_type": "markdown",
      "source": [
        "#### Deal with categorical variables "
      ]
    },
    {
      "metadata": {
        "id": "2v1Xri4sSsR1",
        "colab_type": "text"
      },
      "cell_type": "markdown",
      "source": [
        "Here I will use integer encoding on variables that I want the model to assume some form of linear dependance between variables.\n",
        "It can be adjusted later, but for now I decided on: <br>\n",
        "<ul>\n",
        "  "
      ]
    },
    {
      "metadata": {
        "id": "nXXDcuR9GJbW",
        "colab_type": "code",
        "outputId": "27541e20-3e0f-4a6a-dd4b-e02ad6af0d30",
        "colab": {
          "base_uri": "https://localhost:8080/",
          "height": 284
        }
      },
      "cell_type": "code",
      "source": [
        "# Segment categorical and non categorical data (will manipulate cat_data, and append them back later)\n",
        "cat_data = full_data.select_dtypes(include=['object']).copy()\n",
        "other_data = full_data.select_dtypes(include=['int']).copy()\n",
        "print(cat_data.head())\n",
        "print(cat_data.shape)\n",
        "print(other_data.shape)"
      ],
      "execution_count": 0,
      "outputs": [
        {
          "output_type": "stream",
          "text": [
            "   Workclass     Education      Martial Status         Occupation  \\\n",
            "0    Private          11th       Never-married  Machine-op-inspct   \n",
            "1    Private       HS-grad  Married-civ-spouse    Farming-fishing   \n",
            "2  Local-gov    Assoc-acdm  Married-civ-spouse    Protective-serv   \n",
            "3    Private  Some-college  Married-civ-spouse  Machine-op-inspct   \n",
            "5    Private          10th       Never-married      Other-service   \n",
            "\n",
            "    Relationship   Race   Sex        Country  \n",
            "0      Own-child  Black  Male  United-States  \n",
            "1        Husband  White  Male  United-States  \n",
            "2        Husband  White  Male  United-States  \n",
            "3        Husband  Black  Male  United-States  \n",
            "5  Not-in-family  White  Male  United-States  \n",
            "(45222, 8)\n",
            "(45222, 6)\n"
          ],
          "name": "stdout"
        }
      ]
    },
    {
      "metadata": {
        "id": "XKTkda0aT_ZU",
        "colab_type": "text"
      },
      "cell_type": "markdown",
      "source": [
        "##### Then One Hot encode other Categorical Variables"
      ]
    },
    {
      "metadata": {
        "id": "ndvVRIVuRYpZ",
        "colab_type": "code",
        "colab": {}
      },
      "cell_type": "code",
      "source": [
        "newcat_data = pd.get_dummies(cat_data, columns=[\n",
        "    \"Workclass\", \"Education\", \"Country\" ,\"Relationship\", \"Martial Status\", \"Occupation\", \"Relationship\",\n",
        "    \"Race\", \"Sex\"\n",
        "])"
      ],
      "execution_count": 0,
      "outputs": []
    },
    {
      "metadata": {
        "id": "vLAJRYcZRYri",
        "colab_type": "code",
        "outputId": "192fddd3-bfb9-42a9-99ae-595ef06d1f5e",
        "colab": {
          "base_uri": "https://localhost:8080/",
          "height": 283
        }
      },
      "cell_type": "code",
      "source": [
        "newcat_data.head()"
      ],
      "execution_count": 0,
      "outputs": [
        {
          "output_type": "execute_result",
          "data": {
            "text/html": [
              "<div>\n",
              "<style scoped>\n",
              "    .dataframe tbody tr th:only-of-type {\n",
              "        vertical-align: middle;\n",
              "    }\n",
              "\n",
              "    .dataframe tbody tr th {\n",
              "        vertical-align: top;\n",
              "    }\n",
              "\n",
              "    .dataframe thead th {\n",
              "        text-align: right;\n",
              "    }\n",
              "</style>\n",
              "<table border=\"1\" class=\"dataframe\">\n",
              "  <thead>\n",
              "    <tr style=\"text-align: right;\">\n",
              "      <th></th>\n",
              "      <th>Workclass_Federal-gov</th>\n",
              "      <th>Workclass_Local-gov</th>\n",
              "      <th>Workclass_Private</th>\n",
              "      <th>Workclass_Self-emp-inc</th>\n",
              "      <th>Workclass_Self-emp-not-inc</th>\n",
              "      <th>Workclass_State-gov</th>\n",
              "      <th>Workclass_Without-pay</th>\n",
              "      <th>Education_10th</th>\n",
              "      <th>Education_11th</th>\n",
              "      <th>Education_12th</th>\n",
              "      <th>...</th>\n",
              "      <th>Relationship_Own-child</th>\n",
              "      <th>Relationship_Unmarried</th>\n",
              "      <th>Relationship_Wife</th>\n",
              "      <th>Race_Amer-Indian-Eskimo</th>\n",
              "      <th>Race_Asian-Pac-Islander</th>\n",
              "      <th>Race_Black</th>\n",
              "      <th>Race_Other</th>\n",
              "      <th>Race_White</th>\n",
              "      <th>Sex_Female</th>\n",
              "      <th>Sex_Male</th>\n",
              "    </tr>\n",
              "  </thead>\n",
              "  <tbody>\n",
              "    <tr>\n",
              "      <th>0</th>\n",
              "      <td>0</td>\n",
              "      <td>0</td>\n",
              "      <td>1</td>\n",
              "      <td>0</td>\n",
              "      <td>0</td>\n",
              "      <td>0</td>\n",
              "      <td>0</td>\n",
              "      <td>0</td>\n",
              "      <td>1</td>\n",
              "      <td>0</td>\n",
              "      <td>...</td>\n",
              "      <td>1</td>\n",
              "      <td>0</td>\n",
              "      <td>0</td>\n",
              "      <td>0</td>\n",
              "      <td>0</td>\n",
              "      <td>1</td>\n",
              "      <td>0</td>\n",
              "      <td>0</td>\n",
              "      <td>0</td>\n",
              "      <td>1</td>\n",
              "    </tr>\n",
              "    <tr>\n",
              "      <th>1</th>\n",
              "      <td>0</td>\n",
              "      <td>0</td>\n",
              "      <td>1</td>\n",
              "      <td>0</td>\n",
              "      <td>0</td>\n",
              "      <td>0</td>\n",
              "      <td>0</td>\n",
              "      <td>0</td>\n",
              "      <td>0</td>\n",
              "      <td>0</td>\n",
              "      <td>...</td>\n",
              "      <td>0</td>\n",
              "      <td>0</td>\n",
              "      <td>0</td>\n",
              "      <td>0</td>\n",
              "      <td>0</td>\n",
              "      <td>0</td>\n",
              "      <td>0</td>\n",
              "      <td>1</td>\n",
              "      <td>0</td>\n",
              "      <td>1</td>\n",
              "    </tr>\n",
              "    <tr>\n",
              "      <th>2</th>\n",
              "      <td>0</td>\n",
              "      <td>1</td>\n",
              "      <td>0</td>\n",
              "      <td>0</td>\n",
              "      <td>0</td>\n",
              "      <td>0</td>\n",
              "      <td>0</td>\n",
              "      <td>0</td>\n",
              "      <td>0</td>\n",
              "      <td>0</td>\n",
              "      <td>...</td>\n",
              "      <td>0</td>\n",
              "      <td>0</td>\n",
              "      <td>0</td>\n",
              "      <td>0</td>\n",
              "      <td>0</td>\n",
              "      <td>0</td>\n",
              "      <td>0</td>\n",
              "      <td>1</td>\n",
              "      <td>0</td>\n",
              "      <td>1</td>\n",
              "    </tr>\n",
              "    <tr>\n",
              "      <th>3</th>\n",
              "      <td>0</td>\n",
              "      <td>0</td>\n",
              "      <td>1</td>\n",
              "      <td>0</td>\n",
              "      <td>0</td>\n",
              "      <td>0</td>\n",
              "      <td>0</td>\n",
              "      <td>0</td>\n",
              "      <td>0</td>\n",
              "      <td>0</td>\n",
              "      <td>...</td>\n",
              "      <td>0</td>\n",
              "      <td>0</td>\n",
              "      <td>0</td>\n",
              "      <td>0</td>\n",
              "      <td>0</td>\n",
              "      <td>1</td>\n",
              "      <td>0</td>\n",
              "      <td>0</td>\n",
              "      <td>0</td>\n",
              "      <td>1</td>\n",
              "    </tr>\n",
              "    <tr>\n",
              "      <th>5</th>\n",
              "      <td>0</td>\n",
              "      <td>0</td>\n",
              "      <td>1</td>\n",
              "      <td>0</td>\n",
              "      <td>0</td>\n",
              "      <td>0</td>\n",
              "      <td>0</td>\n",
              "      <td>1</td>\n",
              "      <td>0</td>\n",
              "      <td>0</td>\n",
              "      <td>...</td>\n",
              "      <td>0</td>\n",
              "      <td>0</td>\n",
              "      <td>0</td>\n",
              "      <td>0</td>\n",
              "      <td>0</td>\n",
              "      <td>0</td>\n",
              "      <td>0</td>\n",
              "      <td>1</td>\n",
              "      <td>0</td>\n",
              "      <td>1</td>\n",
              "    </tr>\n",
              "  </tbody>\n",
              "</table>\n",
              "<p>5 rows × 104 columns</p>\n",
              "</div>"
            ],
            "text/plain": [
              "   Workclass_Federal-gov  Workclass_Local-gov  Workclass_Private  \\\n",
              "0                      0                    0                  1   \n",
              "1                      0                    0                  1   \n",
              "2                      0                    1                  0   \n",
              "3                      0                    0                  1   \n",
              "5                      0                    0                  1   \n",
              "\n",
              "   Workclass_Self-emp-inc  Workclass_Self-emp-not-inc  Workclass_State-gov  \\\n",
              "0                       0                           0                    0   \n",
              "1                       0                           0                    0   \n",
              "2                       0                           0                    0   \n",
              "3                       0                           0                    0   \n",
              "5                       0                           0                    0   \n",
              "\n",
              "   Workclass_Without-pay  Education_10th  Education_11th  Education_12th  \\\n",
              "0                      0               0               1               0   \n",
              "1                      0               0               0               0   \n",
              "2                      0               0               0               0   \n",
              "3                      0               0               0               0   \n",
              "5                      0               1               0               0   \n",
              "\n",
              "     ...     Relationship_Own-child  Relationship_Unmarried  \\\n",
              "0    ...                          1                       0   \n",
              "1    ...                          0                       0   \n",
              "2    ...                          0                       0   \n",
              "3    ...                          0                       0   \n",
              "5    ...                          0                       0   \n",
              "\n",
              "   Relationship_Wife  Race_Amer-Indian-Eskimo  Race_Asian-Pac-Islander  \\\n",
              "0                  0                        0                        0   \n",
              "1                  0                        0                        0   \n",
              "2                  0                        0                        0   \n",
              "3                  0                        0                        0   \n",
              "5                  0                        0                        0   \n",
              "\n",
              "   Race_Black  Race_Other  Race_White  Sex_Female  Sex_Male  \n",
              "0           1           0           0           0         1  \n",
              "1           0           0           1           0         1  \n",
              "2           0           0           1           0         1  \n",
              "3           1           0           0           0         1  \n",
              "5           0           0           1           0         1  \n",
              "\n",
              "[5 rows x 104 columns]"
            ]
          },
          "metadata": {
            "tags": []
          },
          "execution_count": 15
        }
      ]
    },
    {
      "metadata": {
        "id": "iSuBxX66U4me",
        "colab_type": "text"
      },
      "cell_type": "markdown",
      "source": [
        "##### Append all columns back together"
      ]
    },
    {
      "metadata": {
        "id": "N9xiFly9G3Fw",
        "colab_type": "code",
        "colab": {}
      },
      "cell_type": "code",
      "source": [
        "full_data = pd.concat([other_data, newcat_data], axis=1)"
      ],
      "execution_count": 0,
      "outputs": []
    },
    {
      "metadata": {
        "id": "BiRFS6taG3H5",
        "colab_type": "code",
        "outputId": "30c75f35-20db-4187-a06d-5b3a59a667d6",
        "colab": {
          "base_uri": "https://localhost:8080/",
          "height": 781
        }
      },
      "cell_type": "code",
      "source": [
        "print(full_data.head())"
      ],
      "execution_count": 0,
      "outputs": [
        {
          "output_type": "stream",
          "text": [
            "   Age  fnlwgt  Education-Num  Capital Gain  Capital Loss  Hours per week  \\\n",
            "0   25  226802              7             0             0              40   \n",
            "1   38   89814              9             0             0              50   \n",
            "2   28  336951             12             0             0              40   \n",
            "3   44  160323             10          7688             0              40   \n",
            "5   34  198693              6             0             0              30   \n",
            "\n",
            "   Workclass_Federal-gov  Workclass_Local-gov  Workclass_Private  \\\n",
            "0                      0                    0                  1   \n",
            "1                      0                    0                  1   \n",
            "2                      0                    1                  0   \n",
            "3                      0                    0                  1   \n",
            "5                      0                    0                  1   \n",
            "\n",
            "   Workclass_Self-emp-inc    ...     Relationship_Own-child  \\\n",
            "0                       0    ...                          1   \n",
            "1                       0    ...                          0   \n",
            "2                       0    ...                          0   \n",
            "3                       0    ...                          0   \n",
            "5                       0    ...                          0   \n",
            "\n",
            "   Relationship_Unmarried  Relationship_Wife  Race_Amer-Indian-Eskimo  \\\n",
            "0                       0                  0                        0   \n",
            "1                       0                  0                        0   \n",
            "2                       0                  0                        0   \n",
            "3                       0                  0                        0   \n",
            "5                       0                  0                        0   \n",
            "\n",
            "   Race_Asian-Pac-Islander  Race_Black  Race_Other  Race_White  Sex_Female  \\\n",
            "0                        0           1           0           0           0   \n",
            "1                        0           0           0           1           0   \n",
            "2                        0           0           0           1           0   \n",
            "3                        0           1           0           0           0   \n",
            "5                        0           0           0           1           0   \n",
            "\n",
            "   Sex_Male  \n",
            "0         1  \n",
            "1         1  \n",
            "2         1  \n",
            "3         1  \n",
            "5         1  \n",
            "\n",
            "[5 rows x 110 columns]\n"
          ],
          "name": "stdout"
        }
      ]
    },
    {
      "metadata": {
        "id": "PSXo6_tXZXSB",
        "colab_type": "code",
        "colab": {}
      },
      "cell_type": "code",
      "source": [
        ""
      ],
      "execution_count": 0,
      "outputs": []
    },
    {
      "metadata": {
        "id": "buDlafHRayOD",
        "colab_type": "text"
      },
      "cell_type": "markdown",
      "source": [
        "#### Split Data and Target, then train / valid / test set "
      ]
    },
    {
      "metadata": {
        "id": "17RitkGoZki4",
        "colab_type": "code",
        "colab": {}
      },
      "cell_type": "code",
      "source": [
        "# Given 45222 datapoints, \n",
        "train_size = 30000\n",
        "valid_size = 10000\n",
        "# test_size is the remainder"
      ],
      "execution_count": 0,
      "outputs": []
    },
    {
      "metadata": {
        "id": "tAAKYBotbJq7",
        "colab_type": "code",
        "outputId": "3b760254-bc47-4e0b-ad99-971cf2073b86",
        "colab": {
          "base_uri": "https://localhost:8080/",
          "height": 159
        }
      },
      "cell_type": "code",
      "source": [
        "train_x = full_data.iloc[:train_size, :]\n",
        "train_y = full_labels[:train_size]\n",
        "print(train_x.shape)\n",
        "print(train_y.shape)\n",
        "print()\n",
        "\n",
        "valid_x = full_data.iloc[train_size:(train_size+valid_size), :]\n",
        "valid_y = full_labels[train_size:(train_size+valid_size)]\n",
        "print(valid_x.shape)\n",
        "print(valid_y.shape)\n",
        "print()\n",
        "\n",
        "test_x = full_data.iloc[(train_size+valid_size):, :]\n",
        "test_y = full_labels[(train_size+valid_size):]\n",
        "print(test_x.shape)\n",
        "print(test_y.shape)\n",
        "num_features = test_x.shape[1]"
      ],
      "execution_count": 0,
      "outputs": [
        {
          "output_type": "stream",
          "text": [
            "(30000, 110)\n",
            "(30000,)\n",
            "\n",
            "(10000, 110)\n",
            "(10000,)\n",
            "\n",
            "(5222, 110)\n",
            "(5222,)\n"
          ],
          "name": "stdout"
        }
      ]
    },
    {
      "metadata": {
        "id": "bNJHF5zWbJtp",
        "colab_type": "code",
        "outputId": "6223a87d-769b-4657-99a6-01927516d61a",
        "colab": {
          "base_uri": "https://localhost:8080/",
          "height": 35
        }
      },
      "cell_type": "code",
      "source": [
        "print(train_y[:25])"
      ],
      "execution_count": 0,
      "outputs": [
        {
          "output_type": "stream",
          "text": [
            "[0 0 1 1 0 1 0 0 1 0 0 1 1 0 0 0 1 0 0 0 1 0 0 0 0]\n"
          ],
          "name": "stdout"
        }
      ]
    },
    {
      "metadata": {
        "id": "wQPSJlL8bJ0C",
        "colab_type": "code",
        "outputId": "8888920b-6b78-4dfe-f99a-e5a81e080866",
        "colab": {
          "base_uri": "https://localhost:8080/",
          "height": 35
        }
      },
      "cell_type": "code",
      "source": [
        "num_features\n"
      ],
      "execution_count": 0,
      "outputs": [
        {
          "output_type": "execute_result",
          "data": {
            "text/plain": [
              "110"
            ]
          },
          "metadata": {
            "tags": []
          },
          "execution_count": 21
        }
      ]
    },
    {
      "metadata": {
        "id": "5yt5NK4WNEwz",
        "colab_type": "text"
      },
      "cell_type": "markdown",
      "source": [
        "### Neural Net"
      ]
    },
    {
      "metadata": {
        "id": "jHj0w28jNwoH",
        "colab_type": "text"
      },
      "cell_type": "markdown",
      "source": [
        "#### Prep Data for Dataloader"
      ]
    },
    {
      "metadata": {
        "id": "fgMYYTEpNysR",
        "colab_type": "code",
        "colab": {}
      },
      "cell_type": "code",
      "source": [
        "directory = os.path.dirname('./data_ML/')\n",
        "\n",
        "try:\n",
        "    os.stat(directory)\n",
        "except:\n",
        "    os.mkdir(directory)  "
      ],
      "execution_count": 0,
      "outputs": []
    },
    {
      "metadata": {
        "id": "W0NUXoZ9N2mP",
        "colab_type": "code",
        "colab": {}
      },
      "cell_type": "code",
      "source": [
        "import os, shutil\n",
        "folder = './data_ML/'\n",
        "for the_file in os.listdir(folder):\n",
        "    file_path = os.path.join(folder, the_file)\n",
        "    try:\n",
        "        if os.path.isfile(file_path):\n",
        "            os.unlink(file_path)\n",
        "        elif os.path.isdir(file_path): shutil.rmtree(file_path)\n",
        "    except Exception as e:\n",
        "        print(e)\n",
        "\n",
        "!ls \"./data_ML/\""
      ],
      "execution_count": 0,
      "outputs": []
    },
    {
      "metadata": {
        "id": "iqPQFRWaN2o9",
        "colab_type": "code",
        "outputId": "834ea263-9aa2-4fb7-beec-90b38fd382f8",
        "colab": {
          "base_uri": "https://localhost:8080/",
          "height": 52
        }
      },
      "cell_type": "code",
      "source": [
        "##############################################################################3\n",
        "###################### NPY FILES ####################\n",
        "\n",
        "## Empty directory\n",
        "full_dataset = np.asarray(full_data).astype(np.float32)\n",
        "z=0\n",
        "\n",
        "# load data for dataloader\n",
        "start = time.time()\n",
        "for x in range(full_dataset.shape[0]):\n",
        "    for y in range(2):\n",
        "        if full_labels[x] == y: \n",
        "            temp = (full_dataset[x,:])\n",
        "            \n",
        "            directory = './data_ML/' + str(label_encoder.classes_[y])\n",
        "            if not os.path.exists(directory):\n",
        "                os.makedirs(directory)\n",
        "            \n",
        "            \n",
        "            np.save((directory+ '/' +str(z) +'.npy'), temp)\n",
        "            \n",
        "            z += 1\n",
        "    \n",
        "end = time.time()\n",
        "\n",
        "print('Time to process: ', end-start)\n",
        "print(z, ' datapoints saved to path')"
      ],
      "execution_count": 0,
      "outputs": [
        {
          "output_type": "stream",
          "text": [
            "Time to process:  15.842331647872925\n",
            "45222  datapoints saved to path\n"
          ],
          "name": "stdout"
        }
      ]
    },
    {
      "metadata": {
        "id": "AaMy1xPON2sH",
        "colab_type": "code",
        "colab": {}
      },
      "cell_type": "code",
      "source": [
        ""
      ],
      "execution_count": 0,
      "outputs": []
    },
    {
      "metadata": {
        "id": "TnqTuuzTNExF",
        "colab_type": "code",
        "colab": {}
      },
      "cell_type": "code",
      "source": [
        ""
      ],
      "execution_count": 0,
      "outputs": []
    },
    {
      "metadata": {
        "id": "K_aPY_UNsKkT",
        "colab_type": "text"
      },
      "cell_type": "markdown",
      "source": [
        "#### Dataloader"
      ]
    },
    {
      "metadata": {
        "id": "TOqDDzbuNExH",
        "colab_type": "code",
        "colab": {}
      },
      "cell_type": "code",
      "source": [
        "mean = np.zeros(num_features)\n",
        "std_mean = np.ones(num_features)\n",
        "\n",
        "\n",
        "class prep_stuff:\n",
        "    def __init__(self, batch_size, path):\n",
        "        self.batch_size = batch_size\n",
        "        self.path = path\n",
        "\n",
        "        batch_size_eval = 128\n",
        "          \n",
        "        self.train_data = datasets.DatasetFolder(self.path, np.load, ('npy') \n",
        "                               )\n",
        "   \n",
        "        \n",
        "        indices = list(range(len(self.train_data)))\n",
        "        random.shuffle(indices)\n",
        "\n",
        "        # Split dataset into train and Test sets\n",
        "        self.train_loader = DataLoader(\n",
        "            self.train_data,\n",
        "            batch_size=self.batch_size,\n",
        "            sampler=SubsetRandomSampler(indices[:30001]),\n",
        "            num_workers=1,\n",
        "        )\n",
        "\n",
        "        self.valid_loader = DataLoader(\n",
        "            self.train_data,\n",
        "            batch_size=batch_size_eval,\n",
        "            sampler=SubsetRandomSampler(indices[30001:38001]),\n",
        "            num_workers=1,\n",
        "        )\n",
        "\n",
        "        self.test_loader = DataLoader(\n",
        "            self.train_data,\n",
        "            batch_size=batch_size_eval,\n",
        "            sampler=SubsetRandomSampler(indices[38001:]),\n",
        "            num_workers=1,\n",
        "        )\n",
        "        \n",
        "           \n",
        "\n",
        "\n",
        "# Create the object with both loader and loss functions\n",
        "\n",
        "batchSize = 1000\n",
        "path = './data_ML/'\n",
        "\n",
        "# 30 000 for train\n",
        "# 8 000 for valid \n",
        "# 3200 for Test\n",
        "pre_model = prep_stuff(batchSize, path)\n"
      ],
      "execution_count": 0,
      "outputs": []
    },
    {
      "metadata": {
        "id": "zM6M1nrNNExM",
        "colab_type": "code",
        "outputId": "3009e418-998c-47fa-ba72-628b6eb5a0cf",
        "colab": {
          "base_uri": "https://localhost:8080/",
          "height": 106
        }
      },
      "cell_type": "code",
      "source": [
        "pre_model.train_data"
      ],
      "execution_count": 0,
      "outputs": [
        {
          "output_type": "execute_result",
          "data": {
            "text/plain": [
              "Dataset DatasetFolder\n",
              "    Number of datapoints: 45222\n",
              "    Root Location: ./data_ML/\n",
              "    Transforms (if any): None\n",
              "    Target Transforms (if any): None"
            ]
          },
          "metadata": {
            "tags": []
          },
          "execution_count": 26
        }
      ]
    },
    {
      "metadata": {
        "id": "Nk3XTotFNExT",
        "colab_type": "code",
        "colab": {}
      },
      "cell_type": "code",
      "source": [
        "class BasicNet(nn.Module):\n",
        "    \n",
        "    def __init__(self, num_features, num_classes):\n",
        "        super().__init__()\n",
        "        self.num_features = num_features\n",
        "        self.num_classes = num_classes\n",
        "        self.layers = 0\n",
        "        \n",
        "        self.lin1 = torch.nn.Linear(self.num_features,  150)        \n",
        "        self.lin2 = torch.nn.Linear(50, 50)        \n",
        "        self.lin3 = torch.nn.Linear(50, 50)\n",
        "        \n",
        "        self.lin4 = torch.nn.Linear(150, 150) \n",
        "        \n",
        "        self.lin5 = torch.nn.Linear(50, 50)        \n",
        "        self.lin6 = torch.nn.Linear(50, 50)\n",
        "        self.lin10 = torch.nn.Linear(150, self.num_classes)\n",
        "        \n",
        "        self.prelu = nn.PReLU()\n",
        "        self.dropout = nn.Dropout(0.25)\n",
        "\n",
        "    def forward(self, xin):\n",
        "        self.layers = 0\n",
        "        \n",
        "        x = F.relu(self.lin1(xin))\n",
        "        self.layers += 1\n",
        "        \n",
        "        #x = F.relu(self.lin2(x))\n",
        "        #self.layers += 1\n",
        "        for y in range(8):\n",
        "          x = F.relu(self.lin4(x)) \n",
        "          self.layers += 1\n",
        "           \n",
        "        x = self.dropout(x)\n",
        "        \n",
        "        x = F.relu(self.lin10(x)) \n",
        "        self.layers += 1\n",
        "        return x\n",
        "      "
      ],
      "execution_count": 0,
      "outputs": []
    },
    {
      "metadata": {
        "id": "21CZ88qHNExW",
        "colab_type": "code",
        "colab": {}
      },
      "cell_type": "code",
      "source": [
        "\n",
        "\n",
        "def train(model, train_loader, optimizer, epoch):\n",
        "    model.train()\n",
        "    \n",
        "    for inputs, target in train_loader:\n",
        "      \n",
        "        inputs, target = inputs.to(device), target.to(device)\n",
        "        \n",
        "        optimizer.zero_grad()\n",
        "        output = model(inputs)\n",
        "        loss = loss_fn(output, target)\n",
        "        # Backprop\n",
        "        loss.backward()\n",
        "        optimizer.step()\n",
        "        ###"
      ],
      "execution_count": 0,
      "outputs": []
    },
    {
      "metadata": {
        "id": "POSn1s9bNExb",
        "colab_type": "code",
        "colab": {}
      },
      "cell_type": "code",
      "source": [
        "def test(model, test_loader):\n",
        "    model.eval()\n",
        "    \n",
        "    test_loss = 0\n",
        "    correct = 0\n",
        "    test_size = 0\n",
        "    \n",
        "    with torch.no_grad():\n",
        "      \n",
        "        for inputs, target in test_loader:\n",
        "            \n",
        "            inputs, target = inputs.to(device), target.to(device)\n",
        "            \n",
        "            output = model(inputs)\n",
        "            test_size += len(inputs)\n",
        "            test_loss += test_loss_fn(output, target).item() \n",
        "            pred = output.max(1, keepdim=True)[1] \n",
        "            correct += pred.eq(target.view_as(pred)).sum().item()\n",
        "\n",
        "    test_loss /= test_size\n",
        "    accuracy = correct / test_size\n",
        "    print('\\nTest set: Average loss: {:.4f}, Accuracy: {}/{} ({:.0f}%)\\n'.format(\n",
        "        test_loss, correct, test_size,\n",
        "        100. * accuracy))\n",
        "    \n",
        "    return test_loss, accuracy"
      ],
      "execution_count": 0,
      "outputs": []
    },
    {
      "metadata": {
        "id": "9XMkzIBwNExf",
        "colab_type": "code",
        "outputId": "0fa30fe8-5ed8-436d-c15b-11ca95f4434c",
        "colab": {
          "base_uri": "https://localhost:8080/",
          "height": 7164
        }
      },
      "cell_type": "code",
      "source": [
        "\n",
        "model = BasicNet(num_features, 2).to(device)\n",
        "test_accuracy = []\n",
        "train_loss = []\n",
        "nbr_epochs = 100\n",
        "lr = 0.0025# \n",
        "weight_decay = 0\n",
        "\n",
        "\n",
        "\n",
        "# Surrogate loss used for training\n",
        "loss_fn = nn.CrossEntropyLoss()\n",
        "test_loss_fn = nn.CrossEntropyLoss(reduction='sum')\n",
        "\n",
        "optimizer = optim.Adam(model.parameters(), lr=lr,weight_decay=weight_decay)\n",
        "#optimizer = optim.SGD(model.parameters(), lr=lr ,weight_decay=weight_decay)\n",
        "#optimizer = optim.RMSprop(model.parameters(), lr=lr, weight_decay=weight_decay)\n",
        "\n",
        "\n",
        "print('Training beginning...')\n",
        "start_time = time.time()\n",
        "\n",
        "for epoch in range(1, nbr_epochs+1):\n",
        "    print('Epoch ', epoch, ':')\n",
        "    train(model, pre_model.train_loader, optimizer, epoch)\n",
        "    loss, acc = test(model, pre_model.valid_loader)\n",
        "    \n",
        "    # save results every epoch\n",
        "    test_accuracy.append(acc)\n",
        "    train_loss.append(loss)\n",
        "    \n",
        "end_time = time.time()\n",
        "print('Training on ' + str(nbr_epochs) + ' epochs done in ', str(end_time-start_time),' seconds')"
      ],
      "execution_count": 0,
      "outputs": [
        {
          "output_type": "stream",
          "text": [
            "Training beginning...\n",
            "Epoch  1 :\n",
            "\n",
            "Test set: Average loss: 0.7173, Accuracy: 5971/8000 (75%)\n",
            "\n",
            "Epoch  2 :\n",
            "\n",
            "Test set: Average loss: 0.6194, Accuracy: 5971/8000 (75%)\n",
            "\n",
            "Epoch  3 :\n",
            "\n",
            "Test set: Average loss: 0.5455, Accuracy: 5971/8000 (75%)\n",
            "\n",
            "Epoch  4 :\n",
            "\n",
            "Test set: Average loss: 0.5731, Accuracy: 5971/8000 (75%)\n",
            "\n",
            "Epoch  5 :\n",
            "\n",
            "Test set: Average loss: 0.5501, Accuracy: 6316/8000 (79%)\n",
            "\n",
            "Epoch  6 :\n",
            "\n",
            "Test set: Average loss: 0.5378, Accuracy: 6302/8000 (79%)\n",
            "\n",
            "Epoch  7 :\n",
            "\n",
            "Test set: Average loss: 0.5250, Accuracy: 6302/8000 (79%)\n",
            "\n",
            "Epoch  8 :\n",
            "\n",
            "Test set: Average loss: 0.5047, Accuracy: 6321/8000 (79%)\n",
            "\n",
            "Epoch  9 :\n",
            "\n",
            "Test set: Average loss: 0.5259, Accuracy: 6311/8000 (79%)\n",
            "\n",
            "Epoch  10 :\n",
            "\n",
            "Test set: Average loss: 0.4974, Accuracy: 6334/8000 (79%)\n",
            "\n",
            "Epoch  11 :\n",
            "\n",
            "Test set: Average loss: 0.5043, Accuracy: 6327/8000 (79%)\n",
            "\n",
            "Epoch  12 :\n",
            "\n",
            "Test set: Average loss: 0.5044, Accuracy: 6323/8000 (79%)\n",
            "\n",
            "Epoch  13 :\n",
            "\n",
            "Test set: Average loss: 0.5009, Accuracy: 6318/8000 (79%)\n",
            "\n",
            "Epoch  14 :\n",
            "\n",
            "Test set: Average loss: 0.4926, Accuracy: 6392/8000 (80%)\n",
            "\n",
            "Epoch  15 :\n",
            "\n",
            "Test set: Average loss: 0.5030, Accuracy: 6319/8000 (79%)\n",
            "\n",
            "Epoch  16 :\n",
            "\n",
            "Test set: Average loss: 0.5475, Accuracy: 6022/8000 (75%)\n",
            "\n",
            "Epoch  17 :\n",
            "\n",
            "Test set: Average loss: 0.5924, Accuracy: 6015/8000 (75%)\n",
            "\n",
            "Epoch  18 :\n",
            "\n",
            "Test set: Average loss: 0.6252, Accuracy: 6046/8000 (76%)\n",
            "\n",
            "Epoch  19 :\n",
            "\n",
            "Test set: Average loss: 0.5015, Accuracy: 6322/8000 (79%)\n",
            "\n",
            "Epoch  20 :\n",
            "\n",
            "Test set: Average loss: 0.5136, Accuracy: 6328/8000 (79%)\n",
            "\n",
            "Epoch  21 :\n",
            "\n",
            "Test set: Average loss: 0.5344, Accuracy: 5988/8000 (75%)\n",
            "\n",
            "Epoch  22 :\n",
            "\n",
            "Test set: Average loss: 0.5025, Accuracy: 6327/8000 (79%)\n",
            "\n",
            "Epoch  23 :\n",
            "\n",
            "Test set: Average loss: 0.5055, Accuracy: 6350/8000 (79%)\n",
            "\n",
            "Epoch  24 :\n",
            "\n",
            "Test set: Average loss: 0.5758, Accuracy: 6210/8000 (78%)\n",
            "\n",
            "Epoch  25 :\n",
            "\n",
            "Test set: Average loss: 0.5116, Accuracy: 6232/8000 (78%)\n",
            "\n",
            "Epoch  26 :\n",
            "\n",
            "Test set: Average loss: 2.3413, Accuracy: 2265/8000 (28%)\n",
            "\n",
            "Epoch  27 :\n",
            "\n",
            "Test set: Average loss: 0.4977, Accuracy: 6340/8000 (79%)\n",
            "\n",
            "Epoch  28 :\n",
            "\n",
            "Test set: Average loss: 0.4979, Accuracy: 6345/8000 (79%)\n",
            "\n",
            "Epoch  29 :\n",
            "\n",
            "Test set: Average loss: 0.5020, Accuracy: 6338/8000 (79%)\n",
            "\n",
            "Epoch  30 :\n",
            "\n",
            "Test set: Average loss: 1.8201, Accuracy: 2547/8000 (32%)\n",
            "\n",
            "Epoch  31 :\n",
            "\n",
            "Test set: Average loss: 0.5293, Accuracy: 6063/8000 (76%)\n",
            "\n",
            "Epoch  32 :\n",
            "\n",
            "Test set: Average loss: 0.5018, Accuracy: 6332/8000 (79%)\n",
            "\n",
            "Epoch  33 :\n",
            "\n",
            "Test set: Average loss: 0.4983, Accuracy: 6339/8000 (79%)\n",
            "\n",
            "Epoch  34 :\n",
            "\n",
            "Test set: Average loss: 0.5477, Accuracy: 6231/8000 (78%)\n",
            "\n",
            "Epoch  35 :\n",
            "\n",
            "Test set: Average loss: 0.5360, Accuracy: 6196/8000 (77%)\n",
            "\n",
            "Epoch  36 :\n",
            "\n",
            "Test set: Average loss: 0.5014, Accuracy: 6329/8000 (79%)\n",
            "\n",
            "Epoch  37 :\n",
            "\n",
            "Test set: Average loss: 0.5005, Accuracy: 6318/8000 (79%)\n",
            "\n",
            "Epoch  38 :\n",
            "\n",
            "Test set: Average loss: 0.4956, Accuracy: 6341/8000 (79%)\n",
            "\n",
            "Epoch  39 :\n",
            "\n",
            "Test set: Average loss: 0.4971, Accuracy: 6344/8000 (79%)\n",
            "\n",
            "Epoch  40 :\n",
            "\n",
            "Test set: Average loss: 0.4958, Accuracy: 6351/8000 (79%)\n",
            "\n",
            "Epoch  41 :\n",
            "\n",
            "Test set: Average loss: 0.4954, Accuracy: 6378/8000 (80%)\n",
            "\n",
            "Epoch  42 :\n",
            "\n",
            "Test set: Average loss: 0.4983, Accuracy: 6351/8000 (79%)\n",
            "\n",
            "Epoch  43 :\n",
            "\n",
            "Test set: Average loss: 0.4964, Accuracy: 6358/8000 (79%)\n",
            "\n",
            "Epoch  44 :\n",
            "\n",
            "Test set: Average loss: 0.4989, Accuracy: 6334/8000 (79%)\n",
            "\n",
            "Epoch  45 :\n",
            "\n",
            "Test set: Average loss: 0.4922, Accuracy: 6366/8000 (80%)\n",
            "\n",
            "Epoch  46 :\n",
            "\n",
            "Test set: Average loss: 0.4924, Accuracy: 6383/8000 (80%)\n",
            "\n",
            "Epoch  47 :\n",
            "\n",
            "Test set: Average loss: 0.4917, Accuracy: 6380/8000 (80%)\n",
            "\n",
            "Epoch  48 :\n",
            "\n",
            "Test set: Average loss: 0.5376, Accuracy: 6109/8000 (76%)\n",
            "\n",
            "Epoch  49 :\n",
            "\n",
            "Test set: Average loss: 0.5578, Accuracy: 6023/8000 (75%)\n",
            "\n",
            "Epoch  50 :\n",
            "\n",
            "Test set: Average loss: 0.5592, Accuracy: 6035/8000 (75%)\n",
            "\n",
            "Epoch  51 :\n",
            "\n",
            "Test set: Average loss: 0.5677, Accuracy: 6045/8000 (76%)\n",
            "\n",
            "Epoch  52 :\n",
            "\n",
            "Test set: Average loss: 0.6192, Accuracy: 6072/8000 (76%)\n",
            "\n",
            "Epoch  53 :\n",
            "\n",
            "Test set: Average loss: 0.5474, Accuracy: 6096/8000 (76%)\n",
            "\n",
            "Epoch  54 :\n",
            "\n",
            "Test set: Average loss: 0.5363, Accuracy: 6159/8000 (77%)\n",
            "\n",
            "Epoch  55 :\n",
            "\n",
            "Test set: Average loss: 0.5104, Accuracy: 6284/8000 (79%)\n",
            "\n",
            "Epoch  56 :\n",
            "\n",
            "Test set: Average loss: 0.5068, Accuracy: 6299/8000 (79%)\n",
            "\n",
            "Epoch  57 :\n",
            "\n",
            "Test set: Average loss: 0.5194, Accuracy: 6292/8000 (79%)\n",
            "\n",
            "Epoch  58 :\n",
            "\n",
            "Test set: Average loss: 0.5015, Accuracy: 6328/8000 (79%)\n",
            "\n",
            "Epoch  59 :\n",
            "\n",
            "Test set: Average loss: 0.5012, Accuracy: 6289/8000 (79%)\n",
            "\n",
            "Epoch  60 :\n",
            "\n",
            "Test set: Average loss: 0.4992, Accuracy: 6325/8000 (79%)\n",
            "\n",
            "Epoch  61 :\n",
            "\n",
            "Test set: Average loss: 0.5456, Accuracy: 6239/8000 (78%)\n",
            "\n",
            "Epoch  62 :\n",
            "\n",
            "Test set: Average loss: 0.5472, Accuracy: 6172/8000 (77%)\n",
            "\n",
            "Epoch  63 :\n",
            "\n",
            "Test set: Average loss: 0.5045, Accuracy: 6304/8000 (79%)\n",
            "\n",
            "Epoch  64 :\n",
            "\n",
            "Test set: Average loss: 0.5180, Accuracy: 6288/8000 (79%)\n",
            "\n",
            "Epoch  65 :\n",
            "\n",
            "Test set: Average loss: 0.5320, Accuracy: 6288/8000 (79%)\n",
            "\n",
            "Epoch  66 :\n",
            "\n",
            "Test set: Average loss: 0.5079, Accuracy: 6310/8000 (79%)\n",
            "\n",
            "Epoch  67 :\n",
            "\n",
            "Test set: Average loss: 0.7765, Accuracy: 6291/8000 (79%)\n",
            "\n",
            "Epoch  68 :\n",
            "\n",
            "Test set: Average loss: 0.5109, Accuracy: 6337/8000 (79%)\n",
            "\n",
            "Epoch  69 :\n",
            "\n",
            "Test set: Average loss: 0.4962, Accuracy: 6333/8000 (79%)\n",
            "\n",
            "Epoch  70 :\n",
            "\n",
            "Test set: Average loss: 0.4954, Accuracy: 6339/8000 (79%)\n",
            "\n",
            "Epoch  71 :\n",
            "\n",
            "Test set: Average loss: 0.4949, Accuracy: 6343/8000 (79%)\n",
            "\n",
            "Epoch  72 :\n",
            "\n",
            "Test set: Average loss: 0.4955, Accuracy: 6341/8000 (79%)\n",
            "\n",
            "Epoch  73 :\n",
            "\n",
            "Test set: Average loss: 0.4944, Accuracy: 6342/8000 (79%)\n",
            "\n",
            "Epoch  74 :\n",
            "\n",
            "Test set: Average loss: 0.4941, Accuracy: 6358/8000 (79%)\n",
            "\n",
            "Epoch  75 :\n",
            "\n",
            "Test set: Average loss: 0.4943, Accuracy: 6352/8000 (79%)\n",
            "\n",
            "Epoch  76 :\n",
            "\n",
            "Test set: Average loss: 0.4926, Accuracy: 6369/8000 (80%)\n",
            "\n",
            "Epoch  77 :\n",
            "\n",
            "Test set: Average loss: 0.4923, Accuracy: 6380/8000 (80%)\n",
            "\n",
            "Epoch  78 :\n",
            "\n",
            "Test set: Average loss: 0.4920, Accuracy: 6380/8000 (80%)\n",
            "\n",
            "Epoch  79 :\n",
            "\n",
            "Test set: Average loss: 0.4918, Accuracy: 6356/8000 (79%)\n",
            "\n",
            "Epoch  80 :\n",
            "\n",
            "Test set: Average loss: 1.3016, Accuracy: 3041/8000 (38%)\n",
            "\n",
            "Epoch  81 :\n",
            "\n",
            "Test set: Average loss: 0.5241, Accuracy: 6182/8000 (77%)\n",
            "\n",
            "Epoch  82 :\n",
            "\n",
            "Test set: Average loss: 0.4987, Accuracy: 6336/8000 (79%)\n",
            "\n",
            "Epoch  83 :\n",
            "\n",
            "Test set: Average loss: 0.5012, Accuracy: 6322/8000 (79%)\n",
            "\n",
            "Epoch  84 :\n",
            "\n",
            "Test set: Average loss: 0.5069, Accuracy: 6344/8000 (79%)\n",
            "\n",
            "Epoch  85 :\n",
            "\n",
            "Test set: Average loss: 0.8146, Accuracy: 4274/8000 (53%)\n",
            "\n",
            "Epoch  86 :\n",
            "\n",
            "Test set: Average loss: 0.5418, Accuracy: 6126/8000 (77%)\n",
            "\n",
            "Epoch  87 :\n",
            "\n",
            "Test set: Average loss: 0.5262, Accuracy: 6185/8000 (77%)\n",
            "\n",
            "Epoch  88 :\n",
            "\n",
            "Test set: Average loss: 0.5637, Accuracy: 6117/8000 (76%)\n",
            "\n",
            "Epoch  89 :\n",
            "\n",
            "Test set: Average loss: 0.5634, Accuracy: 6306/8000 (79%)\n",
            "\n",
            "Epoch  90 :\n",
            "\n",
            "Test set: Average loss: 0.5406, Accuracy: 6329/8000 (79%)\n",
            "\n",
            "Epoch  91 :\n",
            "\n",
            "Test set: Average loss: 0.4972, Accuracy: 6323/8000 (79%)\n",
            "\n",
            "Epoch  92 :\n",
            "\n",
            "Test set: Average loss: 0.4973, Accuracy: 6330/8000 (79%)\n",
            "\n",
            "Epoch  93 :\n",
            "\n",
            "Test set: Average loss: 0.4963, Accuracy: 6338/8000 (79%)\n",
            "\n",
            "Epoch  94 :\n",
            "\n",
            "Test set: Average loss: 0.5262, Accuracy: 6167/8000 (77%)\n",
            "\n",
            "Epoch  95 :\n",
            "\n",
            "Test set: Average loss: 0.5208, Accuracy: 6250/8000 (78%)\n",
            "\n",
            "Epoch  96 :\n",
            "\n",
            "Test set: Average loss: 0.5015, Accuracy: 6319/8000 (79%)\n",
            "\n",
            "Epoch  97 :\n",
            "\n",
            "Test set: Average loss: 0.5166, Accuracy: 6275/8000 (78%)\n",
            "\n",
            "Epoch  98 :\n",
            "\n",
            "Test set: Average loss: 0.5001, Accuracy: 6331/8000 (79%)\n",
            "\n",
            "Epoch  99 :\n",
            "\n",
            "Test set: Average loss: 0.5113, Accuracy: 6303/8000 (79%)\n",
            "\n",
            "Epoch  100 :\n",
            "\n",
            "Test set: Average loss: 0.5219, Accuracy: 6276/8000 (78%)\n",
            "\n",
            "Training on 100 epochs done in  1469.027839422226  seconds\n"
          ],
          "name": "stdout"
        }
      ]
    },
    {
      "metadata": {
        "id": "c0b1VrAmNExk",
        "colab_type": "code",
        "colab": {}
      },
      "cell_type": "code",
      "source": [
        ""
      ],
      "execution_count": 0,
      "outputs": []
    },
    {
      "metadata": {
        "id": "Y_olH7NLNExo",
        "colab_type": "code",
        "outputId": "9d5ffe63-d7a7-4073-c632-2812090b7bdb",
        "colab": {
          "base_uri": "https://localhost:8080/",
          "height": 339
        }
      },
      "cell_type": "code",
      "source": [
        "# Accuracy\n",
        "xvalues= np.arange(0,nbr_epochs,1)\n",
        "plt.xlabel('Epochs trained', fontsize=18)\n",
        "plt.ylabel('Accuracy on Validation set', fontsize=18)\n",
        "plt.plot(xvalues, test_accuracy)\n",
        "\n",
        "print('With lr=',lr, ', Batch size of ', batchSize ,' and ')\n",
        "print('Neural Network has ', model.layers, ' layers and 50 neurons wide')\n",
        "print(loss_fn)"
      ],
      "execution_count": 0,
      "outputs": [
        {
          "output_type": "stream",
          "text": [
            "With lr= 0.0003 , Batch size of  150  and \n",
            "Neural Network has  10  layers and 50 neurons wide\n",
            "CrossEntropyLoss()\n"
          ],
          "name": "stdout"
        },
        {
          "output_type": "display_data",
          "data": {
            "image/png": "[encoded data removed]",
            "text/plain": [
              "<matplotlib.figure.Figure at 0x7f0bed313fd0>"
            ]
          },
          "metadata": {
            "tags": []
          }
        }
      ]
    },
    {
      "metadata": {
        "id": "7msa_HHMNExr",
        "colab_type": "code",
        "outputId": "af01f399-e957-4b0f-d61e-33614a86cf8e",
        "colab": {
          "base_uri": "https://localhost:8080/",
          "height": 304
        }
      },
      "cell_type": "code",
      "source": [
        "#error\n",
        "plt.xlabel('Epochs trained', fontsize=18)\n",
        "plt.ylabel('Error on Validation set', fontsize=18)\n",
        "plt.plot(xvalues, train_loss)"
      ],
      "execution_count": 0,
      "outputs": [
        {
          "output_type": "execute_result",
          "data": {
            "text/plain": [
              "[<matplotlib.lines.Line2D at 0x7f0bed1d4390>]"
            ]
          },
          "metadata": {
            "tags": []
          },
          "execution_count": 48
        },
        {
          "output_type": "display_data",
          "data": {
            "image/png": "[encoded data removed]",
            "text/plain": [
              "<matplotlib.figure.Figure at 0x7f0bed1cd7b8>"
            ]
          },
          "metadata": {
            "tags": []
          }
        }
      ]
    },
    {
      "metadata": {
        "id": "KxodEAbJ8Fzo",
        "colab_type": "text"
      },
      "cell_type": "markdown",
      "source": [
        "#### Test Trained model"
      ]
    },
    {
      "metadata": {
        "id": "5ZlUh81K8Hi5",
        "colab_type": "code",
        "outputId": "5d4aea48-9616-4527-b13e-a36d5013157a",
        "colab": {
          "base_uri": "https://localhost:8080/",
          "height": 70
        }
      },
      "cell_type": "code",
      "source": [
        "loss, acc = test(model, pre_model.test_loader)"
      ],
      "execution_count": 0,
      "outputs": [
        {
          "output_type": "stream",
          "text": [
            "\n",
            "Test set: Average loss: 0.4850, Accuracy: 5822/7221 (81%)\n",
            "\n"
          ],
          "name": "stdout"
        }
      ]
    },
    {
      "metadata": {
        "id": "TIYuW6Te8Hlx",
        "colab_type": "code",
        "colab": {}
      },
      "cell_type": "code",
      "source": [
        ""
      ],
      "execution_count": 0,
      "outputs": []
    },
    {
      "metadata": {
        "id": "VxpoHX0f8HpH",
        "colab_type": "code",
        "colab": {}
      },
      "cell_type": "code",
      "source": [
        ""
      ],
      "execution_count": 0,
      "outputs": []
    },
    {
      "metadata": {
        "id": "3Lmtz4N1NExx",
        "colab_type": "text"
      },
      "cell_type": "markdown",
      "source": [
        "### Random Forest"
      ]
    },
    {
      "metadata": {
        "id": "5hxhIQ0PNExy",
        "colab_type": "code",
        "outputId": "09bb2608-e6d4-4ec9-e0af-ada39a3dd455",
        "colab": {
          "base_uri": "https://localhost:8080/",
          "height": 88
        }
      },
      "cell_type": "code",
      "source": [
        "import math\n",
        "import numpy as np\n",
        "import matplotlib.pyplot as plt\n",
        "%pylab inline\n",
        "import os\n",
        "import time\n",
        "from sklearn.model_selection import cross_val_score\n",
        "from sklearn.ensemble import RandomForestClassifier\n",
        "from sklearn.datasets import make_classification"
      ],
      "execution_count": 0,
      "outputs": [
        {
          "output_type": "stream",
          "text": [
            "Populating the interactive namespace from numpy and matplotlib\n"
          ],
          "name": "stdout"
        },
        {
          "output_type": "stream",
          "text": [
            "/usr/local/lib/python3.6/dist-packages/IPython/core/magics/pylab.py:161: UserWarning: pylab import has clobbered these variables: ['test']\n",
            "`%matplotlib` prevents importing * from pylab and numpy\n",
            "  \"\\n`%matplotlib` prevents importing * from pylab and numpy\"\n"
          ],
          "name": "stderr"
        }
      ]
    },
    {
      "metadata": {
        "id": "UBeCeFiqYbUT",
        "colab_type": "code",
        "colab": {}
      },
      "cell_type": "code",
      "source": [
        "\n",
        "k = 10\n",
        "\n",
        "RFC = RandomForestClassifier(n_estimators=k, random_state=0)\n",
        "\n",
        "RFC.fit(train_x, train_y)\n",
        "\n",
        "mean_accuracy = (RFC.score(valid_x, valid_y))"
      ],
      "execution_count": 0,
      "outputs": []
    },
    {
      "metadata": {
        "id": "dXpKQQPVYbXB",
        "colab_type": "code",
        "outputId": "6792b584-c42d-4ee5-c21d-7438ca6aa1c6",
        "colab": {
          "base_uri": "https://localhost:8080/",
          "height": 35
        }
      },
      "cell_type": "code",
      "source": [
        "print(mean_accuracy)"
      ],
      "execution_count": 0,
      "outputs": [
        {
          "output_type": "stream",
          "text": [
            "0.843\n"
          ],
          "name": "stdout"
        }
      ]
    },
    {
      "metadata": {
        "id": "XtzbFqYZYbZU",
        "colab_type": "code",
        "colab": {}
      },
      "cell_type": "code",
      "source": [
        ""
      ],
      "execution_count": 0,
      "outputs": []
    },
    {
      "metadata": {
        "id": "pyfxcxe8NEx1",
        "colab_type": "text"
      },
      "cell_type": "markdown",
      "source": [
        "#### K trees optimization"
      ]
    },
    {
      "metadata": {
        "id": "_ojSwOneNEx2",
        "colab_type": "code",
        "outputId": "a97f3f01-25a0-4adf-a944-494c51cc7a65",
        "colab": {
          "base_uri": "https://localhost:8080/",
          "height": 728
        }
      },
      "cell_type": "code",
      "source": [
        "# Use cross validation to find optimal NUMBER of trees for forest\n",
        "\n",
        "# Here we test values for k from 1000 to 1500, every 50, hence 10 tests\n",
        "x_axis = np.arange(1,201,5)\n",
        "RFC_acc = []\n",
        "\n",
        "t1 = time.time()\n",
        "for k in range(1,201,5):\n",
        "    RFC = RandomForestClassifier(n_estimators=k, random_state=0)\n",
        "\n",
        "    RFC.fit(train_x, train_y)\n",
        "    \n",
        "    RFC_acc.append(RFC.score(valid_x, valid_y))\n",
        "    print('Forest with ', k , ' trees trained.')\n",
        "t2 = time.time()\n"
      ],
      "execution_count": 0,
      "outputs": [
        {
          "output_type": "stream",
          "text": [
            "Forest with  1  trees trained.\n",
            "Forest with  6  trees trained.\n",
            "Forest with  11  trees trained.\n",
            "Forest with  16  trees trained.\n",
            "Forest with  21  trees trained.\n",
            "Forest with  26  trees trained.\n",
            "Forest with  31  trees trained.\n",
            "Forest with  36  trees trained.\n",
            "Forest with  41  trees trained.\n",
            "Forest with  46  trees trained.\n",
            "Forest with  51  trees trained.\n",
            "Forest with  56  trees trained.\n",
            "Forest with  61  trees trained.\n",
            "Forest with  66  trees trained.\n",
            "Forest with  71  trees trained.\n",
            "Forest with  76  trees trained.\n",
            "Forest with  81  trees trained.\n",
            "Forest with  86  trees trained.\n",
            "Forest with  91  trees trained.\n",
            "Forest with  96  trees trained.\n",
            "Forest with  101  trees trained.\n",
            "Forest with  106  trees trained.\n",
            "Forest with  111  trees trained.\n",
            "Forest with  116  trees trained.\n",
            "Forest with  121  trees trained.\n",
            "Forest with  126  trees trained.\n",
            "Forest with  131  trees trained.\n",
            "Forest with  136  trees trained.\n",
            "Forest with  141  trees trained.\n",
            "Forest with  146  trees trained.\n",
            "Forest with  151  trees trained.\n",
            "Forest with  156  trees trained.\n",
            "Forest with  161  trees trained.\n",
            "Forest with  166  trees trained.\n",
            "Forest with  171  trees trained.\n",
            "Forest with  176  trees trained.\n",
            "Forest with  181  trees trained.\n",
            "Forest with  186  trees trained.\n",
            "Forest with  191  trees trained.\n",
            "Forest with  196  trees trained.\n"
          ],
          "name": "stdout"
        }
      ]
    },
    {
      "metadata": {
        "id": "X1GMYBrnj9_A",
        "colab_type": "code",
        "outputId": "731a9ff8-7497-470d-da92-f93ef064b48e",
        "colab": {
          "base_uri": "https://localhost:8080/",
          "height": 72
        }
      },
      "cell_type": "code",
      "source": [
        "    \n",
        "print('Accuracy on validation set: ', RFC_acc)\n",
        "print('Training done in ', t2-t1, ' seconds.')\n",
        "#print('cross validation average error on train set (8.5k): ', np.average(cv_score))"
      ],
      "execution_count": 0,
      "outputs": [
        {
          "output_type": "stream",
          "text": [
            "Accuracy on validation set:  [0.7986, 0.8361, 0.8467, 0.8459, 0.8475, 0.8493, 0.851, 0.8487, 0.8498, 0.8502, 0.8516, 0.8512, 0.8504, 0.8511, 0.8513, 0.852, 0.8524, 0.8518, 0.8514, 0.8513, 0.8515, 0.8517, 0.8531, 0.8524, 0.8528, 0.8526, 0.8524, 0.8535, 0.8533, 0.8541, 0.8528, 0.8529, 0.8521, 0.8532, 0.8529, 0.853, 0.8528, 0.8529, 0.8527, 0.8531]\n",
            "Training done in  214.0780370235443  seconds.\n"
          ],
          "name": "stdout"
        }
      ]
    },
    {
      "metadata": {
        "id": "Oe2vkw93NEx9",
        "colab_type": "code",
        "outputId": "b4f4cfa3-74ed-4efd-ea4f-120f6c11e44a",
        "colab": {
          "base_uri": "https://localhost:8080/",
          "height": 297
        }
      },
      "cell_type": "code",
      "source": [
        "plt.plot(x_axis , RFC_acc)\n",
        "plt.xlabel('Number of estimators K')\n",
        "plt.ylabel('Accuracy on validation set')"
      ],
      "execution_count": 0,
      "outputs": [
        {
          "output_type": "execute_result",
          "data": {
            "text/plain": [
              "Text(0,0.5,'Accuracy on validation set')"
            ]
          },
          "metadata": {
            "tags": []
          },
          "execution_count": 33
        },
        {
          "output_type": "display_data",
          "data": {
            "image/png": "[encoded data removed]",
            "text/plain": [
              "<matplotlib.figure.Figure at 0x7f0fabd4f160>"
            ]
          },
          "metadata": {
            "tags": []
          }
        }
      ]
    },
    {
      "metadata": {
        "id": "gzHMuuMYmx8i",
        "colab_type": "code",
        "outputId": "430120aa-5296-4107-80e7-9ebe9d0785ef",
        "colab": {
          "base_uri": "https://localhost:8080/",
          "height": 35
        }
      },
      "cell_type": "code",
      "source": [
        "best_value = (np.argmax(RFC_acc))\n",
        "print('Best value was found with ', x_axis[best_value], ' trees, at ', RFC_acc[best_value]*100, '% accuracy' )"
      ],
      "execution_count": 0,
      "outputs": [
        {
          "output_type": "stream",
          "text": [
            "Best value was found with  146  trees, at  85.41 % accuracy\n"
          ],
          "name": "stdout"
        }
      ]
    },
    {
      "metadata": {
        "id": "LOc6T0uvNEx_",
        "colab_type": "text"
      },
      "cell_type": "markdown",
      "source": [
        "#### Max Depth optimization"
      ]
    },
    {
      "metadata": {
        "id": "QgChRA2CmjIJ",
        "colab_type": "code",
        "outputId": "cae11fa8-72c2-4b70-da2b-74526ed1d3ef",
        "colab": {
          "base_uri": "https://localhost:8080/",
          "height": 35
        }
      },
      "cell_type": "code",
      "source": [
        "RFC = RandomForestClassifier(n_estimators=146,  max_depth=17 , random_state=0)\n",
        "\n",
        "RFC.fit(train_x, train_y)\n",
        "\n",
        "RFC_acc2 = (RFC.score(valid_x, valid_y))\n",
        "\n",
        "print(RFC_acc2)"
      ],
      "execution_count": 0,
      "outputs": [
        {
          "output_type": "stream",
          "text": [
            "0.8615\n"
          ],
          "name": "stdout"
        }
      ]
    },
    {
      "metadata": {
        "id": "6b3rKO0zNEyA",
        "colab_type": "code",
        "outputId": "67feb569-552c-46e7-cca3-d9a601524a05",
        "colab": {
          "base_uri": "https://localhost:8080/",
          "height": 177
        }
      },
      "cell_type": "code",
      "source": [
        "k_trees = 146\n",
        "\n",
        "x_ax = [1, 10, 50, 100, 150, 200, 250, 300, 350]\n",
        "RFC_acc2 = []\n",
        "for k in range(len(x_ax)):\n",
        "    RFC = RandomForestClassifier(n_estimators=k_trees,  max_depth=x_ax[k] , random_state=0)\n",
        "\n",
        "    RFC.fit(train_x, train_y)\n",
        "    \n",
        "    RFC_acc2.append(RFC.score(valid_x, valid_y))\n",
        "    print('Training with max depth of ', x_ax[k] , ' completed.')\n"
      ],
      "execution_count": 0,
      "outputs": [
        {
          "output_type": "stream",
          "text": [
            "Training with max depth of  1  completed.\n",
            "Training with max depth of  10  completed.\n",
            "Training with max depth of  50  completed.\n",
            "Training with max depth of  100  completed.\n",
            "Training with max depth of  150  completed.\n",
            "Training with max depth of  200  completed.\n",
            "Training with max depth of  250  completed.\n",
            "Training with max depth of  300  completed.\n",
            "Training with max depth of  350  completed.\n"
          ],
          "name": "stdout"
        }
      ]
    },
    {
      "metadata": {
        "id": "d8twghReNEyE",
        "colab_type": "code",
        "outputId": "b84ba84f-f970-4f49-a706-6dc2ed667a71",
        "colab": {
          "base_uri": "https://localhost:8080/",
          "height": 297
        }
      },
      "cell_type": "code",
      "source": [
        "plt.plot(x_ax , RFC_acc2)\n",
        "plt.xlabel('Max Depth')\n",
        "plt.ylabel('Accuracy on validation set')\n",
        "\n",
        "best_value = (np.argmax(RFC_acc2))\n",
        "print('Best value was found with max depth of', x_axis[best_value], ', at ', RFC_acc2[best_value]*100, '% accuracy' )"
      ],
      "execution_count": 0,
      "outputs": [
        {
          "output_type": "stream",
          "text": [
            "Best value was found with max depth of 6 , at  85.72 % accuracy\n"
          ],
          "name": "stdout"
        },
        {
          "output_type": "display_data",
          "data": {
            "image/png": "[encoded data removed]",
            "text/plain": [
              "<matplotlib.figure.Figure at 0x7f0fab9c9c88>"
            ]
          },
          "metadata": {
            "tags": []
          }
        }
      ]
    },
    {
      "metadata": {
        "id": "yEa5jabyNEyG",
        "colab_type": "text"
      },
      "cell_type": "markdown",
      "source": [
        "#### Tester les deux HP ensemble"
      ]
    },
    {
      "metadata": {
        "id": "iQJB46u1NEyH",
        "colab_type": "code",
        "colab": {}
      },
      "cell_type": "code",
      "source": [
        "RFC_accuracy_matrix = np.zeros((7,10))\n",
        "cv_score = np.zeros((7,10))\n",
        "for k in range(7):\n",
        "    for j in range(1000, 1501 ,50):\n",
        "        RFC = RandomForestClassifier(n_estimators=j,  max_depth=k , random_state=0)\n",
        "\n",
        "        RFC.fit(x_train, x_traiy)\n",
        "    \n",
        "        RFC_accuracy_matrix[k,j] = RFC.score(valid_x, valid_y)\n",
        "        #cv_score = cross_val_score(RFC, x_train, y_train , cv=3)"
      ],
      "execution_count": 0,
      "outputs": []
    },
    {
      "metadata": {
        "id": "7X01-OOjNEyK",
        "colab_type": "code",
        "colab": {}
      },
      "cell_type": "code",
      "source": [
        "print(RFC_accuracy_matrix)"
      ],
      "execution_count": 0,
      "outputs": []
    },
    {
      "metadata": {
        "id": "uukqPXJYiBkE",
        "colab_type": "code",
        "colab": {}
      },
      "cell_type": "code",
      "source": [
        "# Would be nice to have a plot of the two functions\n",
        "\n",
        "\n"
      ],
      "execution_count": 0,
      "outputs": []
    }
  ]
}